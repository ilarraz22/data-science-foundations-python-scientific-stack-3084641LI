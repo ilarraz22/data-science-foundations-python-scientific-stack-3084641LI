{
  "metadata": {
    "kernelspec": {
      "language": "python",
      "display_name": "Python 3",
      "name": "python3"
    },
    "language_info": {
      "name": "python",
      "version": "3.10.13",
      "mimetype": "text/x-python",
      "codemirror_mode": {
        "name": "ipython",
        "version": 3
      },
      "pygments_lexer": "ipython3",
      "nbconvert_exporter": "python",
      "file_extension": ".py"
    },
    "kaggle": {
      "accelerator": "none",
      "dataSources": [
        {
          "sourceId": 5921776,
          "sourceType": "datasetVersion",
          "datasetId": 3240464
        }
      ],
      "dockerImageVersionId": 30646,
      "isInternetEnabled": true,
      "language": "python",
      "sourceType": "notebook",
      "isGpuEnabled": false
    },
    "colab": {
      "provenance": [],
      "collapsed_sections": [
        "1Fnlad7RAmJC",
        "JUNo7H__AmJJ",
        "-PJHq9b6AmJK",
        "6UUOuy6XAmJQ",
        "-B9qB9C_AmJT"
      ]
    }
  },
  "nbformat_minor": 0,
  "nbformat": 4,
  "cells": [
    {
      "cell_type": "code",
      "source": [
        "from google.colab import drive\n",
        "drive.mount('/content/drive')"
      ],
      "metadata": {
        "colab": {
          "base_uri": "https://localhost:8080/"
        },
        "id": "0BniiwkfAr0J",
        "outputId": "6f5c4bb2-6250-4ca1-f7d3-a87f5bd62b3f"
      },
      "execution_count": 1,
      "outputs": [
        {
          "output_type": "stream",
          "name": "stdout",
          "text": [
            "Mounted at /content/drive\n"
          ]
        }
      ]
    },
    {
      "cell_type": "markdown",
      "source": [
        "## Libraries"
      ],
      "metadata": {
        "editable": false,
        "id": "1Fnlad7RAmJC"
      }
    },
    {
      "cell_type": "code",
      "source": [
        "import pandas as pd\n",
        "import numpy as np\n",
        "import seaborn as sb\n",
        "import matplotlib.pyplot as plt\n",
        "\n",
        "'''import os\n",
        "for dirname, _, filenames in os.walk('/kaggle/input'):\n",
        "    for filename in filenames:\n",
        "        print(os.path.join(dirname, filename))'''"
      ],
      "metadata": {
        "execution": {
          "iopub.status.busy": "2024-01-31T23:04:46.336798Z",
          "iopub.execute_input": "2024-01-31T23:04:46.337333Z",
          "iopub.status.idle": "2024-01-31T23:04:47.751762Z",
          "shell.execute_reply.started": "2024-01-31T23:04:46.337289Z",
          "shell.execute_reply": "2024-01-31T23:04:47.749867Z"
        },
        "editable": false,
        "trusted": true,
        "colab": {
          "base_uri": "https://localhost:8080/",
          "height": 0
        },
        "id": "FlA9O16yAmJG",
        "outputId": "b84c8998-5208-4237-8aad-92237f067e7a"
      },
      "execution_count": 2,
      "outputs": [
        {
          "output_type": "execute_result",
          "data": {
            "text/plain": [
              "\"import os\\nfor dirname, _, filenames in os.walk('/kaggle/input'):\\n    for filename in filenames:\\n        print(os.path.join(dirname, filename))\""
            ],
            "application/vnd.google.colaboratory.intrinsic+json": {
              "type": "string"
            }
          },
          "metadata": {},
          "execution_count": 2
        }
      ]
    },
    {
      "cell_type": "code",
      "source": [
        "df = pd.read_csv('/content/drive/MyDrive/Colab Notebooks/Portfolio/Top 10000 Movies/top_1000_popular_movies_tmdb.csv', lineterminator='\\n' )\n",
        "df2 = pd.read_csv('/content/drive/MyDrive/Colab Notebooks/Portfolio/Top 10000 Movies/top_1000_popular_movies_tmdb.csv', lineterminator='\\n' )\n",
        "df3 = pd.read_csv('/content/drive/MyDrive/Colab Notebooks/Portfolio/Top 10000 Movies/top_1000_popular_movies_tmdb.csv', lineterminator='\\n' )\n",
        "df4 = pd.read_csv('/content/drive/MyDrive/Colab Notebooks/Portfolio/Top 10000 Movies/top_1000_popular_movies_tmdb.csv', lineterminator='\\n' )\n",
        "df5 = pd.read_csv('/content/drive/MyDrive/Colab Notebooks/Portfolio/Top 10000 Movies/top_1000_popular_movies_tmdb.csv', lineterminator='\\n' )"
      ],
      "metadata": {
        "execution": {
          "iopub.status.busy": "2024-01-31T23:04:49.709425Z",
          "iopub.execute_input": "2024-01-31T23:04:49.709993Z",
          "iopub.status.idle": "2024-01-31T23:04:50.423529Z",
          "shell.execute_reply.started": "2024-01-31T23:04:49.709948Z",
          "shell.execute_reply": "2024-01-31T23:04:50.422042Z"
        },
        "editable": false,
        "trusted": true,
        "id": "Auw9sjW7AmJI"
      },
      "execution_count": 3,
      "outputs": []
    },
    {
      "cell_type": "markdown",
      "source": [
        "# V2\n",
        "* data is split into 4 tables\n",
        "    * main\n",
        "    * genres\n",
        "    * Production companies\n",
        "    * Overviews and tag lines"
      ],
      "metadata": {
        "editable": false,
        "id": "JUNo7H__AmJJ"
      }
    },
    {
      "cell_type": "markdown",
      "source": [
        "## Multiple tables"
      ],
      "metadata": {
        "editable": false,
        "id": "-PJHq9b6AmJK"
      }
    },
    {
      "cell_type": "code",
      "source": [
        "main = df2\n",
        "genres = df3[['id', 'genres']]\n",
        "prod_comp = df4[['id', 'production_companies']]\n",
        "O_T = df5[['id','overview', 'tagline']]\n"
      ],
      "metadata": {
        "execution": {
          "iopub.status.busy": "2024-01-31T23:04:52.668303Z",
          "iopub.execute_input": "2024-01-31T23:04:52.668728Z",
          "iopub.status.idle": "2024-01-31T23:04:52.694555Z",
          "shell.execute_reply.started": "2024-01-31T23:04:52.668691Z",
          "shell.execute_reply": "2024-01-31T23:04:52.691865Z"
        },
        "editable": false,
        "trusted": true,
        "id": "KpHkuvrhAmJL"
      },
      "execution_count": 4,
      "outputs": []
    },
    {
      "cell_type": "markdown",
      "source": [
        "## Data Separation and Cleaning"
      ],
      "metadata": {
        "editable": false,
        "id": "OYN9A28PAmJM"
      }
    },
    {
      "cell_type": "code",
      "source": [
        "#main\n",
        "main = main.drop('Unnamed: 0', axis = 1)\n",
        "main = main.drop('overview', axis = 1)\n",
        "main = main.drop('tagline', axis = 1)\n",
        "main = main.drop('genres', axis = 1)\n",
        "main = main.drop('production_companies', axis = 1)\n",
        "\n",
        "#genres\n",
        "g_col_melt = ['id', 'genres']\n",
        "##column syntax cleaner\n",
        "genres['genres'] = genres['genres'].str.strip('[]').str.replace(\"'\", \"\")\n",
        "\n",
        "##genre spliter\n",
        "genres = genres.join(genres['genres'].str.split(',', expand = True))\n",
        "\n",
        "##column renamer\n",
        "genres.rename(columns={0: \"1\",\n",
        "                       1: \"2\",\n",
        "                       2: \"3\",\n",
        "                       3: \"4\",\n",
        "                       4: \"5\",\n",
        "                       5: \"6\",\n",
        "                       6: \"7\",\n",
        "                       7: \"8\",\n",
        "                       8: \"9\"}, inplace=True)\n",
        "\n",
        "##Melter\n",
        "genres = pd.melt(genres, id_vars = g_col_melt, var_name=\"genre#\", value_name = \"genre\")\n",
        "##drop unncessary column\n",
        "genres = genres.drop('genres', axis = 1)\n",
        "##Get rid of all nulls in genre column\n",
        "genres.dropna(subset=['genre'], inplace=True)\n",
        "\n",
        "#prod_comp\n",
        "pc_col_melt = ['id', 'production_companies']\n",
        "##column syntax cleaner\n",
        "prod_comp['production_companies'] = prod_comp['production_companies'].str.strip('[]').str.replace(\"'\", \"\")\n",
        "\n",
        "##prodcomp spliter\n",
        "prod_comp = prod_comp.join(prod_comp['production_companies'].str.split(',', expand = True))\n",
        "\n",
        "##column renamer\n",
        "prod_comp.rename(columns={0: \"1\",\n",
        "                       1: \"2\",\n",
        "                       2: \"3\",\n",
        "                       3: \"4\",\n",
        "                       4: \"5\",\n",
        "                       5: \"6\",\n",
        "                       6: \"7\",\n",
        "                       7: \"8\",\n",
        "                       8: \"9\",\n",
        "                       9: \"10\",\n",
        "                       10: \"11\",\n",
        "                       11: \"12\",\n",
        "                       12: \"13\",\n",
        "                       13: \"14\",\n",
        "                       14: \"15\",\n",
        "                       15: \"16\",\n",
        "                       16: \"17\",\n",
        "                       17: \"18\",\n",
        "                       18: \"19\",\n",
        "                       19: \"20\",\n",
        "                       20: \"21\",\n",
        "                       21: \"22\",\n",
        "                       22: \"23\",\n",
        "                       23: \"24\",\n",
        "                       24: \"25\",\n",
        "                       25: \"26\",\n",
        "                       26: \"27\",\n",
        "                       27: \"28\",\n",
        "                       28: \"29\",\n",
        "                       29: \"30\"}, inplace=True)\n",
        "\n",
        "##Melter\n",
        "prod_comp = pd.melt(prod_comp, id_vars = pc_col_melt, var_name=\"prodcompany#\", value_name = \"production_company\")\n",
        "##drop unncessary column\n",
        "prod_comp = prod_comp.drop('production_companies', axis = 1)\n",
        "##Get rid of all nulls in genre column\n",
        "prod_comp.dropna(subset=['production_company'], inplace=True)\n"
      ],
      "metadata": {
        "execution": {
          "iopub.status.busy": "2024-01-31T23:05:41.685353Z",
          "iopub.execute_input": "2024-01-31T23:05:41.685808Z",
          "iopub.status.idle": "2024-01-31T23:05:42.011051Z",
          "shell.execute_reply.started": "2024-01-31T23:05:41.685750Z",
          "shell.execute_reply": "2024-01-31T23:05:42.009847Z"
        },
        "editable": false,
        "trusted": true,
        "colab": {
          "base_uri": "https://localhost:8080/"
        },
        "id": "UlZqsyEFAmJN",
        "outputId": "0868c540-2def-413d-8bc8-7bc425a44e84"
      },
      "execution_count": 5,
      "outputs": [
        {
          "output_type": "stream",
          "name": "stderr",
          "text": [
            "<ipython-input-5-498ead6e7712>:11: SettingWithCopyWarning: \n",
            "A value is trying to be set on a copy of a slice from a DataFrame.\n",
            "Try using .loc[row_indexer,col_indexer] = value instead\n",
            "\n",
            "See the caveats in the documentation: https://pandas.pydata.org/pandas-docs/stable/user_guide/indexing.html#returning-a-view-versus-a-copy\n",
            "  genres['genres'] = genres['genres'].str.strip('[]').str.replace(\"'\", \"\")\n",
            "<ipython-input-5-498ead6e7712>:37: SettingWithCopyWarning: \n",
            "A value is trying to be set on a copy of a slice from a DataFrame.\n",
            "Try using .loc[row_indexer,col_indexer] = value instead\n",
            "\n",
            "See the caveats in the documentation: https://pandas.pydata.org/pandas-docs/stable/user_guide/indexing.html#returning-a-view-versus-a-copy\n",
            "  prod_comp['production_companies'] = prod_comp['production_companies'].str.strip('[]').str.replace(\"'\", \"\")\n"
          ]
        }
      ]
    },
    {
      "cell_type": "code",
      "source": [
        "#Get rid of Movies that had not come out as of 1/31/24\n",
        "main.dropna(subset=['release_date'], inplace=True)\n",
        "\n",
        "#Check for nulls\n",
        "##main.isnull().sum()\n",
        "#inspect null column\n",
        "##main[main['release_date'].isnull()]"
      ],
      "metadata": {
        "execution": {
          "iopub.status.busy": "2024-01-31T23:27:54.597760Z",
          "iopub.execute_input": "2024-01-31T23:27:54.598518Z",
          "iopub.status.idle": "2024-01-31T23:27:54.609764Z",
          "shell.execute_reply.started": "2024-01-31T23:27:54.598478Z",
          "shell.execute_reply": "2024-01-31T23:27:54.608522Z"
        },
        "editable": false,
        "trusted": true,
        "id": "2VTdqqzYAmJP"
      },
      "execution_count": 6,
      "outputs": []
    },
    {
      "cell_type": "code",
      "source": [
        "main"
      ],
      "metadata": {
        "execution": {
          "iopub.status.busy": "2024-01-31T23:27:56.661380Z",
          "iopub.execute_input": "2024-01-31T23:27:56.662157Z",
          "iopub.status.idle": "2024-01-31T23:27:56.683960Z",
          "shell.execute_reply.started": "2024-01-31T23:27:56.662118Z",
          "shell.execute_reply": "2024-01-31T23:27:56.681879Z"
        },
        "editable": false,
        "trusted": true,
        "colab": {
          "base_uri": "https://localhost:8080/",
          "height": 424
        },
        "id": "bsVcwborAmJP",
        "outputId": "a749051a-0b41-4bb1-e4fa-1fea53f2fb49"
      },
      "execution_count": 7,
      "outputs": [
        {
          "output_type": "execute_result",
          "data": {
            "text/plain": [
              "          id                                title release_date  \\\n",
              "0     385687                               Fast X   2023-05-17   \n",
              "1     603692                 John Wick: Chapter 4   2023-03-22   \n",
              "2     502356          The Super Mario Bros. Movie   2023-04-05   \n",
              "3     569094  Spider-Man: Across the Spider-Verse   2023-05-31   \n",
              "4     536437                             Hypnotic   2023-05-11   \n",
              "...      ...                                  ...          ...   \n",
              "9995   33142                                Vivah   2006-11-10   \n",
              "9996    9442            Dead Men Don't Wear Plaid   1982-05-21   \n",
              "9997   28774                            Communion   1989-11-10   \n",
              "9998   11121                                 Tess   1979-10-06   \n",
              "9999  272692       The Possession of Michael King   2014-08-14   \n",
              "\n",
              "     original_language  vote_average  vote_count  popularity     budget  \\\n",
              "0              English           7.4        1347    8363.473  340000000   \n",
              "1              English           7.9        2896    4210.313   90000000   \n",
              "2              English           7.8        4628    3394.458  100000000   \n",
              "3              English           8.8        1160    2859.047  100000000   \n",
              "4              English           6.5         154    2654.854   70000000   \n",
              "...                ...           ...         ...         ...        ...   \n",
              "9995             Hindi           6.4          70      12.301          0   \n",
              "9996           English           6.6         324      12.301    9000000   \n",
              "9997           English           5.3         147      12.300    5000000   \n",
              "9998           English           7.0         283      12.300   12000000   \n",
              "9999           English           6.1         346      12.297          0   \n",
              "\n",
              "         revenue  runtime  \n",
              "0      652000000      142  \n",
              "1      431769198      170  \n",
              "2     1308766975       92  \n",
              "3      313522201      140  \n",
              "4              0       94  \n",
              "...          ...      ...  \n",
              "9995     4000000      175  \n",
              "9996    18196170       89  \n",
              "9997     1919653      103  \n",
              "9998    20101247      186  \n",
              "9999     2405143       83  \n",
              "\n",
              "[9977 rows x 10 columns]"
            ],
            "text/html": [
              "\n",
              "  <div id=\"df-f69a991b-8ba0-439e-a00e-832dcb9a8f69\" class=\"colab-df-container\">\n",
              "    <div>\n",
              "<style scoped>\n",
              "    .dataframe tbody tr th:only-of-type {\n",
              "        vertical-align: middle;\n",
              "    }\n",
              "\n",
              "    .dataframe tbody tr th {\n",
              "        vertical-align: top;\n",
              "    }\n",
              "\n",
              "    .dataframe thead th {\n",
              "        text-align: right;\n",
              "    }\n",
              "</style>\n",
              "<table border=\"1\" class=\"dataframe\">\n",
              "  <thead>\n",
              "    <tr style=\"text-align: right;\">\n",
              "      <th></th>\n",
              "      <th>id</th>\n",
              "      <th>title</th>\n",
              "      <th>release_date</th>\n",
              "      <th>original_language</th>\n",
              "      <th>vote_average</th>\n",
              "      <th>vote_count</th>\n",
              "      <th>popularity</th>\n",
              "      <th>budget</th>\n",
              "      <th>revenue</th>\n",
              "      <th>runtime</th>\n",
              "    </tr>\n",
              "  </thead>\n",
              "  <tbody>\n",
              "    <tr>\n",
              "      <th>0</th>\n",
              "      <td>385687</td>\n",
              "      <td>Fast X</td>\n",
              "      <td>2023-05-17</td>\n",
              "      <td>English</td>\n",
              "      <td>7.4</td>\n",
              "      <td>1347</td>\n",
              "      <td>8363.473</td>\n",
              "      <td>340000000</td>\n",
              "      <td>652000000</td>\n",
              "      <td>142</td>\n",
              "    </tr>\n",
              "    <tr>\n",
              "      <th>1</th>\n",
              "      <td>603692</td>\n",
              "      <td>John Wick: Chapter 4</td>\n",
              "      <td>2023-03-22</td>\n",
              "      <td>English</td>\n",
              "      <td>7.9</td>\n",
              "      <td>2896</td>\n",
              "      <td>4210.313</td>\n",
              "      <td>90000000</td>\n",
              "      <td>431769198</td>\n",
              "      <td>170</td>\n",
              "    </tr>\n",
              "    <tr>\n",
              "      <th>2</th>\n",
              "      <td>502356</td>\n",
              "      <td>The Super Mario Bros. Movie</td>\n",
              "      <td>2023-04-05</td>\n",
              "      <td>English</td>\n",
              "      <td>7.8</td>\n",
              "      <td>4628</td>\n",
              "      <td>3394.458</td>\n",
              "      <td>100000000</td>\n",
              "      <td>1308766975</td>\n",
              "      <td>92</td>\n",
              "    </tr>\n",
              "    <tr>\n",
              "      <th>3</th>\n",
              "      <td>569094</td>\n",
              "      <td>Spider-Man: Across the Spider-Verse</td>\n",
              "      <td>2023-05-31</td>\n",
              "      <td>English</td>\n",
              "      <td>8.8</td>\n",
              "      <td>1160</td>\n",
              "      <td>2859.047</td>\n",
              "      <td>100000000</td>\n",
              "      <td>313522201</td>\n",
              "      <td>140</td>\n",
              "    </tr>\n",
              "    <tr>\n",
              "      <th>4</th>\n",
              "      <td>536437</td>\n",
              "      <td>Hypnotic</td>\n",
              "      <td>2023-05-11</td>\n",
              "      <td>English</td>\n",
              "      <td>6.5</td>\n",
              "      <td>154</td>\n",
              "      <td>2654.854</td>\n",
              "      <td>70000000</td>\n",
              "      <td>0</td>\n",
              "      <td>94</td>\n",
              "    </tr>\n",
              "    <tr>\n",
              "      <th>...</th>\n",
              "      <td>...</td>\n",
              "      <td>...</td>\n",
              "      <td>...</td>\n",
              "      <td>...</td>\n",
              "      <td>...</td>\n",
              "      <td>...</td>\n",
              "      <td>...</td>\n",
              "      <td>...</td>\n",
              "      <td>...</td>\n",
              "      <td>...</td>\n",
              "    </tr>\n",
              "    <tr>\n",
              "      <th>9995</th>\n",
              "      <td>33142</td>\n",
              "      <td>Vivah</td>\n",
              "      <td>2006-11-10</td>\n",
              "      <td>Hindi</td>\n",
              "      <td>6.4</td>\n",
              "      <td>70</td>\n",
              "      <td>12.301</td>\n",
              "      <td>0</td>\n",
              "      <td>4000000</td>\n",
              "      <td>175</td>\n",
              "    </tr>\n",
              "    <tr>\n",
              "      <th>9996</th>\n",
              "      <td>9442</td>\n",
              "      <td>Dead Men Don't Wear Plaid</td>\n",
              "      <td>1982-05-21</td>\n",
              "      <td>English</td>\n",
              "      <td>6.6</td>\n",
              "      <td>324</td>\n",
              "      <td>12.301</td>\n",
              "      <td>9000000</td>\n",
              "      <td>18196170</td>\n",
              "      <td>89</td>\n",
              "    </tr>\n",
              "    <tr>\n",
              "      <th>9997</th>\n",
              "      <td>28774</td>\n",
              "      <td>Communion</td>\n",
              "      <td>1989-11-10</td>\n",
              "      <td>English</td>\n",
              "      <td>5.3</td>\n",
              "      <td>147</td>\n",
              "      <td>12.300</td>\n",
              "      <td>5000000</td>\n",
              "      <td>1919653</td>\n",
              "      <td>103</td>\n",
              "    </tr>\n",
              "    <tr>\n",
              "      <th>9998</th>\n",
              "      <td>11121</td>\n",
              "      <td>Tess</td>\n",
              "      <td>1979-10-06</td>\n",
              "      <td>English</td>\n",
              "      <td>7.0</td>\n",
              "      <td>283</td>\n",
              "      <td>12.300</td>\n",
              "      <td>12000000</td>\n",
              "      <td>20101247</td>\n",
              "      <td>186</td>\n",
              "    </tr>\n",
              "    <tr>\n",
              "      <th>9999</th>\n",
              "      <td>272692</td>\n",
              "      <td>The Possession of Michael King</td>\n",
              "      <td>2014-08-14</td>\n",
              "      <td>English</td>\n",
              "      <td>6.1</td>\n",
              "      <td>346</td>\n",
              "      <td>12.297</td>\n",
              "      <td>0</td>\n",
              "      <td>2405143</td>\n",
              "      <td>83</td>\n",
              "    </tr>\n",
              "  </tbody>\n",
              "</table>\n",
              "<p>9977 rows × 10 columns</p>\n",
              "</div>\n",
              "    <div class=\"colab-df-buttons\">\n",
              "\n",
              "  <div class=\"colab-df-container\">\n",
              "    <button class=\"colab-df-convert\" onclick=\"convertToInteractive('df-f69a991b-8ba0-439e-a00e-832dcb9a8f69')\"\n",
              "            title=\"Convert this dataframe to an interactive table.\"\n",
              "            style=\"display:none;\">\n",
              "\n",
              "  <svg xmlns=\"http://www.w3.org/2000/svg\" height=\"24px\" viewBox=\"0 -960 960 960\">\n",
              "    <path d=\"M120-120v-720h720v720H120Zm60-500h600v-160H180v160Zm220 220h160v-160H400v160Zm0 220h160v-160H400v160ZM180-400h160v-160H180v160Zm440 0h160v-160H620v160ZM180-180h160v-160H180v160Zm440 0h160v-160H620v160Z\"/>\n",
              "  </svg>\n",
              "    </button>\n",
              "\n",
              "  <style>\n",
              "    .colab-df-container {\n",
              "      display:flex;\n",
              "      gap: 12px;\n",
              "    }\n",
              "\n",
              "    .colab-df-convert {\n",
              "      background-color: #E8F0FE;\n",
              "      border: none;\n",
              "      border-radius: 50%;\n",
              "      cursor: pointer;\n",
              "      display: none;\n",
              "      fill: #1967D2;\n",
              "      height: 32px;\n",
              "      padding: 0 0 0 0;\n",
              "      width: 32px;\n",
              "    }\n",
              "\n",
              "    .colab-df-convert:hover {\n",
              "      background-color: #E2EBFA;\n",
              "      box-shadow: 0px 1px 2px rgba(60, 64, 67, 0.3), 0px 1px 3px 1px rgba(60, 64, 67, 0.15);\n",
              "      fill: #174EA6;\n",
              "    }\n",
              "\n",
              "    .colab-df-buttons div {\n",
              "      margin-bottom: 4px;\n",
              "    }\n",
              "\n",
              "    [theme=dark] .colab-df-convert {\n",
              "      background-color: #3B4455;\n",
              "      fill: #D2E3FC;\n",
              "    }\n",
              "\n",
              "    [theme=dark] .colab-df-convert:hover {\n",
              "      background-color: #434B5C;\n",
              "      box-shadow: 0px 1px 3px 1px rgba(0, 0, 0, 0.15);\n",
              "      filter: drop-shadow(0px 1px 2px rgba(0, 0, 0, 0.3));\n",
              "      fill: #FFFFFF;\n",
              "    }\n",
              "  </style>\n",
              "\n",
              "    <script>\n",
              "      const buttonEl =\n",
              "        document.querySelector('#df-f69a991b-8ba0-439e-a00e-832dcb9a8f69 button.colab-df-convert');\n",
              "      buttonEl.style.display =\n",
              "        google.colab.kernel.accessAllowed ? 'block' : 'none';\n",
              "\n",
              "      async function convertToInteractive(key) {\n",
              "        const element = document.querySelector('#df-f69a991b-8ba0-439e-a00e-832dcb9a8f69');\n",
              "        const dataTable =\n",
              "          await google.colab.kernel.invokeFunction('convertToInteractive',\n",
              "                                                    [key], {});\n",
              "        if (!dataTable) return;\n",
              "\n",
              "        const docLinkHtml = 'Like what you see? Visit the ' +\n",
              "          '<a target=\"_blank\" href=https://colab.research.google.com/notebooks/data_table.ipynb>data table notebook</a>'\n",
              "          + ' to learn more about interactive tables.';\n",
              "        element.innerHTML = '';\n",
              "        dataTable['output_type'] = 'display_data';\n",
              "        await google.colab.output.renderOutput(dataTable, element);\n",
              "        const docLink = document.createElement('div');\n",
              "        docLink.innerHTML = docLinkHtml;\n",
              "        element.appendChild(docLink);\n",
              "      }\n",
              "    </script>\n",
              "  </div>\n",
              "\n",
              "\n",
              "<div id=\"df-081def22-5344-4a4e-ac4b-4eb9a81b17e0\">\n",
              "  <button class=\"colab-df-quickchart\" onclick=\"quickchart('df-081def22-5344-4a4e-ac4b-4eb9a81b17e0')\"\n",
              "            title=\"Suggest charts\"\n",
              "            style=\"display:none;\">\n",
              "\n",
              "<svg xmlns=\"http://www.w3.org/2000/svg\" height=\"24px\"viewBox=\"0 0 24 24\"\n",
              "     width=\"24px\">\n",
              "    <g>\n",
              "        <path d=\"M19 3H5c-1.1 0-2 .9-2 2v14c0 1.1.9 2 2 2h14c1.1 0 2-.9 2-2V5c0-1.1-.9-2-2-2zM9 17H7v-7h2v7zm4 0h-2V7h2v10zm4 0h-2v-4h2v4z\"/>\n",
              "    </g>\n",
              "</svg>\n",
              "  </button>\n",
              "\n",
              "<style>\n",
              "  .colab-df-quickchart {\n",
              "      --bg-color: #E8F0FE;\n",
              "      --fill-color: #1967D2;\n",
              "      --hover-bg-color: #E2EBFA;\n",
              "      --hover-fill-color: #174EA6;\n",
              "      --disabled-fill-color: #AAA;\n",
              "      --disabled-bg-color: #DDD;\n",
              "  }\n",
              "\n",
              "  [theme=dark] .colab-df-quickchart {\n",
              "      --bg-color: #3B4455;\n",
              "      --fill-color: #D2E3FC;\n",
              "      --hover-bg-color: #434B5C;\n",
              "      --hover-fill-color: #FFFFFF;\n",
              "      --disabled-bg-color: #3B4455;\n",
              "      --disabled-fill-color: #666;\n",
              "  }\n",
              "\n",
              "  .colab-df-quickchart {\n",
              "    background-color: var(--bg-color);\n",
              "    border: none;\n",
              "    border-radius: 50%;\n",
              "    cursor: pointer;\n",
              "    display: none;\n",
              "    fill: var(--fill-color);\n",
              "    height: 32px;\n",
              "    padding: 0;\n",
              "    width: 32px;\n",
              "  }\n",
              "\n",
              "  .colab-df-quickchart:hover {\n",
              "    background-color: var(--hover-bg-color);\n",
              "    box-shadow: 0 1px 2px rgba(60, 64, 67, 0.3), 0 1px 3px 1px rgba(60, 64, 67, 0.15);\n",
              "    fill: var(--button-hover-fill-color);\n",
              "  }\n",
              "\n",
              "  .colab-df-quickchart-complete:disabled,\n",
              "  .colab-df-quickchart-complete:disabled:hover {\n",
              "    background-color: var(--disabled-bg-color);\n",
              "    fill: var(--disabled-fill-color);\n",
              "    box-shadow: none;\n",
              "  }\n",
              "\n",
              "  .colab-df-spinner {\n",
              "    border: 2px solid var(--fill-color);\n",
              "    border-color: transparent;\n",
              "    border-bottom-color: var(--fill-color);\n",
              "    animation:\n",
              "      spin 1s steps(1) infinite;\n",
              "  }\n",
              "\n",
              "  @keyframes spin {\n",
              "    0% {\n",
              "      border-color: transparent;\n",
              "      border-bottom-color: var(--fill-color);\n",
              "      border-left-color: var(--fill-color);\n",
              "    }\n",
              "    20% {\n",
              "      border-color: transparent;\n",
              "      border-left-color: var(--fill-color);\n",
              "      border-top-color: var(--fill-color);\n",
              "    }\n",
              "    30% {\n",
              "      border-color: transparent;\n",
              "      border-left-color: var(--fill-color);\n",
              "      border-top-color: var(--fill-color);\n",
              "      border-right-color: var(--fill-color);\n",
              "    }\n",
              "    40% {\n",
              "      border-color: transparent;\n",
              "      border-right-color: var(--fill-color);\n",
              "      border-top-color: var(--fill-color);\n",
              "    }\n",
              "    60% {\n",
              "      border-color: transparent;\n",
              "      border-right-color: var(--fill-color);\n",
              "    }\n",
              "    80% {\n",
              "      border-color: transparent;\n",
              "      border-right-color: var(--fill-color);\n",
              "      border-bottom-color: var(--fill-color);\n",
              "    }\n",
              "    90% {\n",
              "      border-color: transparent;\n",
              "      border-bottom-color: var(--fill-color);\n",
              "    }\n",
              "  }\n",
              "</style>\n",
              "\n",
              "  <script>\n",
              "    async function quickchart(key) {\n",
              "      const quickchartButtonEl =\n",
              "        document.querySelector('#' + key + ' button');\n",
              "      quickchartButtonEl.disabled = true;  // To prevent multiple clicks.\n",
              "      quickchartButtonEl.classList.add('colab-df-spinner');\n",
              "      try {\n",
              "        const charts = await google.colab.kernel.invokeFunction(\n",
              "            'suggestCharts', [key], {});\n",
              "      } catch (error) {\n",
              "        console.error('Error during call to suggestCharts:', error);\n",
              "      }\n",
              "      quickchartButtonEl.classList.remove('colab-df-spinner');\n",
              "      quickchartButtonEl.classList.add('colab-df-quickchart-complete');\n",
              "    }\n",
              "    (() => {\n",
              "      let quickchartButtonEl =\n",
              "        document.querySelector('#df-081def22-5344-4a4e-ac4b-4eb9a81b17e0 button');\n",
              "      quickchartButtonEl.style.display =\n",
              "        google.colab.kernel.accessAllowed ? 'block' : 'none';\n",
              "    })();\n",
              "  </script>\n",
              "</div>\n",
              "\n",
              "  <div id=\"id_e1d5f1cd-b72b-41f7-99ff-3a7db47807fc\">\n",
              "    <style>\n",
              "      .colab-df-generate {\n",
              "        background-color: #E8F0FE;\n",
              "        border: none;\n",
              "        border-radius: 50%;\n",
              "        cursor: pointer;\n",
              "        display: none;\n",
              "        fill: #1967D2;\n",
              "        height: 32px;\n",
              "        padding: 0 0 0 0;\n",
              "        width: 32px;\n",
              "      }\n",
              "\n",
              "      .colab-df-generate:hover {\n",
              "        background-color: #E2EBFA;\n",
              "        box-shadow: 0px 1px 2px rgba(60, 64, 67, 0.3), 0px 1px 3px 1px rgba(60, 64, 67, 0.15);\n",
              "        fill: #174EA6;\n",
              "      }\n",
              "\n",
              "      [theme=dark] .colab-df-generate {\n",
              "        background-color: #3B4455;\n",
              "        fill: #D2E3FC;\n",
              "      }\n",
              "\n",
              "      [theme=dark] .colab-df-generate:hover {\n",
              "        background-color: #434B5C;\n",
              "        box-shadow: 0px 1px 3px 1px rgba(0, 0, 0, 0.15);\n",
              "        filter: drop-shadow(0px 1px 2px rgba(0, 0, 0, 0.3));\n",
              "        fill: #FFFFFF;\n",
              "      }\n",
              "    </style>\n",
              "    <button class=\"colab-df-generate\" onclick=\"generateWithVariable('main')\"\n",
              "            title=\"Generate code using this dataframe.\"\n",
              "            style=\"display:none;\">\n",
              "\n",
              "  <svg xmlns=\"http://www.w3.org/2000/svg\" height=\"24px\"viewBox=\"0 0 24 24\"\n",
              "       width=\"24px\">\n",
              "    <path d=\"M7,19H8.4L18.45,9,17,7.55,7,17.6ZM5,21V16.75L18.45,3.32a2,2,0,0,1,2.83,0l1.4,1.43a1.91,1.91,0,0,1,.58,1.4,1.91,1.91,0,0,1-.58,1.4L9.25,21ZM18.45,9,17,7.55Zm-12,3A5.31,5.31,0,0,0,4.9,8.1,5.31,5.31,0,0,0,1,6.5,5.31,5.31,0,0,0,4.9,4.9,5.31,5.31,0,0,0,6.5,1,5.31,5.31,0,0,0,8.1,4.9,5.31,5.31,0,0,0,12,6.5,5.46,5.46,0,0,0,6.5,12Z\"/>\n",
              "  </svg>\n",
              "    </button>\n",
              "    <script>\n",
              "      (() => {\n",
              "      const buttonEl =\n",
              "        document.querySelector('#id_e1d5f1cd-b72b-41f7-99ff-3a7db47807fc button.colab-df-generate');\n",
              "      buttonEl.style.display =\n",
              "        google.colab.kernel.accessAllowed ? 'block' : 'none';\n",
              "\n",
              "      buttonEl.onclick = () => {\n",
              "        google.colab.notebook.generateWithVariable('main');\n",
              "      }\n",
              "      })();\n",
              "    </script>\n",
              "  </div>\n",
              "\n",
              "    </div>\n",
              "  </div>\n"
            ],
            "application/vnd.google.colaboratory.intrinsic+json": {
              "type": "dataframe",
              "variable_name": "main",
              "summary": "{\n  \"name\": \"main\",\n  \"rows\": 9977,\n  \"fields\": [\n    {\n      \"column\": \"id\",\n      \"properties\": {\n        \"dtype\": \"number\",\n        \"std\": 337331,\n        \"min\": 5,\n        \"max\": 1136631,\n        \"num_unique_values\": 9977,\n        \"samples\": [\n          9327,\n          4806,\n          9381\n        ],\n        \"semantic_type\": \"\",\n        \"description\": \"\"\n      }\n    },\n    {\n      \"column\": \"title\",\n      \"properties\": {\n        \"dtype\": \"string\",\n        \"num_unique_values\": 9631,\n        \"samples\": [\n          \"Bill & Ted's Excellent Adventure\",\n          \"The Jack in the Box\",\n          \"The Girl in the Fog\"\n        ],\n        \"semantic_type\": \"\",\n        \"description\": \"\"\n      }\n    },\n    {\n      \"column\": \"release_date\",\n      \"properties\": {\n        \"dtype\": \"object\",\n        \"num_unique_values\": 5995,\n        \"samples\": [\n          \"2020-05-12\",\n          \"2009-08-05\",\n          \"1974-06-25\"\n        ],\n        \"semantic_type\": \"\",\n        \"description\": \"\"\n      }\n    },\n    {\n      \"column\": \"original_language\",\n      \"properties\": {\n        \"dtype\": \"category\",\n        \"num_unique_values\": 52,\n        \"samples\": [\n          \"Swedish\",\n          \"Malayalam\",\n          \"Norwegian Bokmal\"\n        ],\n        \"semantic_type\": \"\",\n        \"description\": \"\"\n      }\n    },\n    {\n      \"column\": \"vote_average\",\n      \"properties\": {\n        \"dtype\": \"number\",\n        \"std\": 1.4341036946070378,\n        \"min\": 0.0,\n        \"max\": 10.0,\n        \"num_unique_values\": 72,\n        \"samples\": [\n          6.5,\n          2.5,\n          8.4\n        ],\n        \"semantic_type\": \"\",\n        \"description\": \"\"\n      }\n    },\n    {\n      \"column\": \"vote_count\",\n      \"properties\": {\n        \"dtype\": \"number\",\n        \"std\": 2890,\n        \"min\": 0,\n        \"max\": 33822,\n        \"num_unique_values\": 3471,\n        \"samples\": [\n          236,\n          565,\n          1438\n        ],\n        \"semantic_type\": \"\",\n        \"description\": \"\"\n      }\n    },\n    {\n      \"column\": \"popularity\",\n      \"properties\": {\n        \"dtype\": \"number\",\n        \"std\": 126.63943747788576,\n        \"min\": 12.297,\n        \"max\": 8363.473,\n        \"num_unique_values\": 7953,\n        \"samples\": [\n          35.498,\n          23.66,\n          119.391\n        ],\n        \"semantic_type\": \"\",\n        \"description\": \"\"\n      }\n    },\n    {\n      \"column\": \"budget\",\n      \"properties\": {\n        \"dtype\": \"number\",\n        \"std\": 38737134,\n        \"min\": 0,\n        \"max\": 460000000,\n        \"num_unique_values\": 699,\n        \"samples\": [\n          43000000,\n          1549000,\n          9400000\n        ],\n        \"semantic_type\": \"\",\n        \"description\": \"\"\n      }\n    },\n    {\n      \"column\": \"revenue\",\n      \"properties\": {\n        \"dtype\": \"number\",\n        \"std\": 155452114,\n        \"min\": 0,\n        \"max\": 2923706026,\n        \"num_unique_values\": 5372,\n        \"samples\": [\n          795922298,\n          5285197,\n          2471778\n        ],\n        \"semantic_type\": \"\",\n        \"description\": \"\"\n      }\n    },\n    {\n      \"column\": \"runtime\",\n      \"properties\": {\n        \"dtype\": \"number\",\n        \"std\": 27,\n        \"min\": 0,\n        \"max\": 366,\n        \"num_unique_values\": 216,\n        \"samples\": [\n          29,\n          205,\n          57\n        ],\n        \"semantic_type\": \"\",\n        \"description\": \"\"\n      }\n    }\n  ]\n}"
            }
          },
          "metadata": {},
          "execution_count": 7
        }
      ]
    },
    {
      "cell_type": "markdown",
      "source": [
        "## Data export"
      ],
      "metadata": {
        "editable": false,
        "id": "6UUOuy6XAmJQ"
      }
    },
    {
      "cell_type": "code",
      "source": [
        "'''\n",
        "main.to_csv(\"/content/drive/MyDrive/Colab Notebooks/Portfolio/Top 10000 Movies/top10000moviesmain.csv\", index = False)\n",
        "genres.to_csv(\"/content/drive/MyDrive/Colab Notebooks/Portfolio/Top 10000 Movies/top10000moviesgenres.csv\", index = False)\n",
        "prod_comp.to_csv(\"/content/drive/MyDrive/Colab Notebooks/Portfolio/Top 10000 Movies/top10000moviesprodcomp.csv\", index = False)\n",
        "O_T.to_csv(\"/content/drive/MyDrive/Colab Notebooks/Portfolio/Top 10000 Movies/top10000moviesot.csv\", index = False)\n",
        "'''"
      ],
      "metadata": {
        "id": "uIrLjz9jBb_f"
      },
      "execution_count": null,
      "outputs": []
    },
    {
      "cell_type": "code",
      "source": [
        "#save to one excel\n",
        "\n",
        "import pandas as pd\n",
        "import xlsxwriter\n",
        "\n",
        "with pd.ExcelWriter('/content/drive/MyDrive/Colab Notebooks/Portfolio/Top 10000 Movies/top10000movies.xlsx', engine='xlsxwriter') as writer:\n",
        "    main.to_excel(writer, sheet_name='Main', index=False)\n",
        "    genres.to_excel(writer, sheet_name='Genres', index=False)\n",
        "    prod_comp.to_excel(writer, sheet_name='Production Companies', index=False)\n",
        "    O_T.to_excel(writer, sheet_name='Overviews and Taglines', index=False)\n"
      ],
      "metadata": {
        "id": "Ww_5J9YbFWDo"
      },
      "execution_count": 14,
      "outputs": []
    },
    {
      "cell_type": "markdown",
      "source": [
        "# V1\n",
        "\n",
        "* all data is in one table"
      ],
      "metadata": {
        "editable": false,
        "id": "-B9qB9C_AmJT"
      }
    },
    {
      "cell_type": "markdown",
      "source": [
        "## Data Cleaning Stage 1\n",
        "\n",
        "* split columns into additional columns\n",
        "* melt those split columns together\n",
        "* drop unnecessary initial columns"
      ],
      "metadata": {
        "editable": false,
        "id": "vF4o8WyFAmJT"
      }
    },
    {
      "cell_type": "code",
      "source": [
        "melt_cols = [          'Unnamed: 0',                   'id',                'title',\n",
        "               'release_date',               'genres',    'original_language',\n",
        "               'vote_average',           'vote_count',           'popularity',\n",
        "                   'overview',               'budget', 'production_companies',\n",
        "                    'revenue',              'runtime',              'tagline']\n",
        "\n",
        "melt_cols2 = ['Unnamed: 0', 'id', 'title', 'release_date', 'genres',\n",
        "       'original_language', 'vote_average', 'vote_count', 'popularity',\n",
        "       'overview', 'budget', 'production_companies', 'revenue', 'runtime',\n",
        "       'tagline', 'genre#', 'genre']"
      ],
      "metadata": {
        "execution": {
          "iopub.status.busy": "2024-01-31T00:40:32.251069Z",
          "iopub.execute_input": "2024-01-31T00:40:32.251559Z",
          "iopub.status.idle": "2024-01-31T00:40:32.259089Z",
          "shell.execute_reply.started": "2024-01-31T00:40:32.251522Z",
          "shell.execute_reply": "2024-01-31T00:40:32.257724Z"
        },
        "editable": false,
        "trusted": true,
        "id": "3YjY2S3mAmJU"
      },
      "execution_count": null,
      "outputs": []
    },
    {
      "cell_type": "code",
      "source": [
        "#column syntax cleaner\n",
        "df['genres'] = df['genres'].str.strip('[]').str.replace(\"'\", \"\")\n",
        "df['production_companies'] = df['production_companies'].str.strip('[]').str.replace(\"'\", \"\")\n",
        "\n",
        "#genre spliter\n",
        "df = df.join(df['genres'].str.split(',', expand = True))\n",
        "##column renamer\n",
        "df.rename(columns={0: \"genre1\",\n",
        "                       1: \"genre2\",\n",
        "                       2: \"genre3\",\n",
        "                       3: \"genre4\",\n",
        "                       4: \"genre5\",\n",
        "                       5: \"genre6\",\n",
        "                       6: \"genre7\",\n",
        "                       7: \"genre8\",\n",
        "                       8: \"genre9\"}, inplace=True)\n",
        "##column melter\n",
        "df = pd.melt(df, id_vars = melt_cols, var_name=\"genre#\", value_name = \"genre\")\n",
        "\n",
        "\n",
        "#prodcomp spliter\n",
        "df = df.join(df['production_companies'].str.split(',', expand = True))\n",
        "df = pd.melt(df, id_vars = melt_cols2, var_name=\"prodcompany#\", value_name = \"production_company\")"
      ],
      "metadata": {
        "execution": {
          "iopub.status.busy": "2024-01-31T00:39:58.136876Z",
          "iopub.execute_input": "2024-01-31T00:39:58.137397Z",
          "iopub.status.idle": "2024-01-31T00:39:58.379665Z",
          "shell.execute_reply.started": "2024-01-31T00:39:58.137357Z",
          "shell.execute_reply": "2024-01-31T00:39:58.378201Z"
        },
        "editable": false,
        "trusted": true,
        "id": "v6_xyVWxAmJU"
      },
      "execution_count": null,
      "outputs": []
    },
    {
      "cell_type": "code",
      "source": [
        "#Version without overview and tagline columns\n",
        "df = df.drop('Unnamed: 0', axis = 1)\n",
        "df = df.drop('overview', axis = 1)\n",
        "df = df.drop('tagline', axis = 1)\n",
        "df = df.drop('genres', axis = 1)\n",
        "df = df.drop('production_companies', axis = 1)"
      ],
      "metadata": {
        "execution": {
          "iopub.status.busy": "2024-01-31T00:41:04.557170Z",
          "iopub.execute_input": "2024-01-31T00:41:04.557592Z",
          "iopub.status.idle": "2024-01-31T00:41:07.049718Z",
          "shell.execute_reply.started": "2024-01-31T00:41:04.557540Z",
          "shell.execute_reply": "2024-01-31T00:41:07.048193Z"
        },
        "editable": false,
        "trusted": true,
        "id": "ynZukSxuAmJV"
      },
      "execution_count": null,
      "outputs": []
    },
    {
      "cell_type": "code",
      "source": [
        "'''\n",
        "#Version for including overview column and tagline columns\n",
        "df = df.drop('Unnamed: 0', axis = 1)\n",
        "df = df.drop('genres', axis = 1)\n",
        "df = df.drop('production_companies', axis = 1)\n",
        "'''"
      ],
      "metadata": {
        "jupyter": {
          "source_hidden": true
        },
        "editable": false,
        "id": "Mg5QnOTJAmJV"
      },
      "execution_count": null,
      "outputs": []
    },
    {
      "cell_type": "code",
      "source": [
        "df.info()"
      ],
      "metadata": {
        "execution": {
          "iopub.status.busy": "2024-01-31T00:41:18.891774Z",
          "iopub.execute_input": "2024-01-31T00:41:18.892232Z",
          "iopub.status.idle": "2024-01-31T00:41:18.918349Z",
          "shell.execute_reply.started": "2024-01-31T00:41:18.892200Z",
          "shell.execute_reply": "2024-01-31T00:41:18.917066Z"
        },
        "editable": false,
        "trusted": true,
        "id": "p7SXt5qGAmJW"
      },
      "execution_count": null,
      "outputs": []
    },
    {
      "cell_type": "code",
      "source": [
        "df"
      ],
      "metadata": {
        "execution": {
          "iopub.status.busy": "2024-01-31T00:41:21.840820Z",
          "iopub.execute_input": "2024-01-31T00:41:21.841222Z",
          "iopub.status.idle": "2024-01-31T00:41:21.868105Z",
          "shell.execute_reply.started": "2024-01-31T00:41:21.841191Z",
          "shell.execute_reply": "2024-01-31T00:41:21.866554Z"
        },
        "editable": false,
        "trusted": true,
        "id": "Td_t80DaAmJW"
      },
      "execution_count": null,
      "outputs": []
    },
    {
      "cell_type": "markdown",
      "source": [
        "## Data Cleaning Stage 2:"
      ],
      "metadata": {
        "editable": false,
        "id": "1uMa-whPAmJX"
      }
    },
    {
      "cell_type": "markdown",
      "source": [
        "Quick idea, maybe put production company and genre into their own tables and join later"
      ],
      "metadata": {
        "editable": false,
        "id": "M2SQJCmGAmJX"
      }
    },
    {
      "cell_type": "code",
      "source": [],
      "metadata": {
        "editable": false,
        "id": "TpotvCdBAmJY"
      },
      "execution_count": null,
      "outputs": []
    }
  ]
}